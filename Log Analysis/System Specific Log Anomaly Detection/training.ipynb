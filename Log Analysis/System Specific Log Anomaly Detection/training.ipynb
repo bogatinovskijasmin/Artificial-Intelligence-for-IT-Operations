{
 "cells": [
  {
   "cell_type": "code",
   "execution_count": null,
   "metadata": {
    "pycharm": {
     "name": "#%%\n"
    }
   },
   "outputs": [],
   "source": [
    "import time\n",
    "\n",
    "import matplotlib.pyplot as plt\n",
    "import pandas as pd\n",
    "from torch.utils.data import TensorDataset, DataLoader, RandomSampler, SequentialSampler\n",
    "from torchvision import transforms\n",
    "from tqdm import trange\n",
    "\n",
    "from ml.networks import *\n",
    "from ml.trainer import run_test\n",
    "from ml.utils import LogTokenizer, get_padded_data\n",
    "\n",
    "torch.random.seed = 0\n",
    "np.random.seed(0)"
   ]
  },
  {
   "cell_type": "code",
   "execution_count": null,
   "metadata": {
    "pycharm": {
     "name": "#%%\n"
    }
   },
   "outputs": [],
   "source": [
    "#helper function to create the model --> the model is in networks.py\n",
    "def make_model(src_vocab, tgt_vocab, N=3,\n",
    "               d_model=512, d_ff=2048, h=8, dropout=0.1, max_len=20):\n",
    "    \"Helper: Construct a model from hyperparameters.\"\n",
    "    c = copy.deepcopy\n",
    "    attn = MultiHeadedAttention(h, d_model)\n",
    "    ff = PositionwiseFeedForward(d_model, d_ff, dropout)\n",
    "    position = PositionalEncoding(d_model, dropout, max_len)\n",
    "    model = EncoderDecoder(\n",
    "        Encoder(EncoderLayer(d_model, c(attn), c(ff), dropout), N),\n",
    "        Decoder(DecoderLayer(d_model, c(attn), c(attn), c(ff), dropout), N),\n",
    "        nn.Sequential(Embeddings(d_model, src_vocab), c(position)),\n",
    "        nn.Sequential(Embeddings(d_model, tgt_vocab), c(position)),\n",
    "        Generator(d_model, tgt_vocab))\n",
    "\n",
    "    # This was important from their code. \n",
    "    # Initialize parameters with Glorot / fan_avg.\n",
    "    for p in model.parameters():\n",
    "        if p.dim() > 1:\n",
    "            nn.init.xavier_uniform_(p)\n",
    "    return model"
   ]
  },
  {
   "cell_type": "code",
   "execution_count": null,
   "outputs": [],
   "source": [
    "df = pd.read_csv('log_data_repository.csv').drop([\"Unnamed: 0\"], 1)\n",
    "df = df[df.log_level != \"debug\"]"
   ],
   "metadata": {
    "collapsed": false,
    "pycharm": {
     "name": "#%%\n"
    }
   }
  },
  {
   "cell_type": "code",
   "execution_count": null,
   "outputs": [],
   "source": [
    "mappings = {\"warning\": 0, \"warn\": 0, \"error\": 0, \"log\": 1, \"fatal\": 0, \"trace\": 1, \"critical\": 0, \"exception\": 0,\n",
    "            \"info\": 1}\n",
    "def level_to_binary(x):\n",
    "    return mappings[x]\n",
    "df['target'] = df.log_level.apply(lambda x: level_to_binary(x))"
   ],
   "metadata": {
    "collapsed": false,
    "pycharm": {
     "name": "#%%\n"
    }
   }
  },
  {
   "cell_type": "code",
   "execution_count": null,
   "metadata": {
    "scrolled": true,
    "pycharm": {
     "name": "#%%\n"
    }
   },
   "outputs": [],
   "source": [
    "tokenizer = LogTokenizer()\n",
    "df_len = int(df.shape[0])\n",
    "data_tokenized = []\n",
    "for i in trange(0, df_len):\n",
    "    tokenized = tokenizer.tokenize(df.iloc[i].log_message)\n",
    "    data_tokenized.append(tokenized)\n",
    "data_token_indexed = np.asanyarray(data_tokenized)"
   ]
  },
  {
   "cell_type": "code",
   "execution_count": null,
   "metadata": {
    "pycharm": {
     "name": "#%%\n"
    }
   },
   "outputs": [],
   "source": [
    "ratio = 0.8\n",
    "train_size = round(df_len * ratio)\n",
    "train_size, df_len\n",
    "\n",
    "data_token_indexed_test = data_token_indexed[train_size:]\n",
    "data_token_indexed_train = data_token_indexed[:train_size]\n",
    "\n",
    "test_ground_labels = df.target.values[train_size:]\n",
    "train_ground_labels = df.target.values[:train_size]"
   ]
  },
  {
   "cell_type": "code",
   "execution_count": null,
   "metadata": {
    "pycharm": {
     "name": "#%%\n"
    }
   },
   "outputs": [],
   "source": [
    "batch_size = 2048\n",
    "transform_to_tensor = transforms.Lambda(lambda lst: torch.tensor(lst))\n",
    "train_data = TensorDataset(torch.tensor(get_padded_data(data_token_indexed_train, pad_len=50), dtype=torch.long),\n",
    "                           torch.tensor(train_ground_labels.astype(np.int32), dtype=torch.long))\n",
    "train_sampler = RandomSampler(train_data)\n",
    "train_dataloader = DataLoader(train_data, sampler=train_sampler, batch_size=batch_size)\n",
    "\n",
    "test_data = TensorDataset(torch.tensor(get_padded_data(data_token_indexed_test, pad_len=50), dtype=torch.long),\n",
    "                          torch.tensor(test_ground_labels.astype(np.int32).flatten(), dtype=torch.long))\n",
    "test_sampler = SequentialSampler(test_data)\n",
    "test_dataloader = DataLoader(test_data, sampler=test_sampler, batch_size=batch_size)\n"
   ]
  },
  {
   "cell_type": "code",
   "execution_count": null,
   "metadata": {
    "pycharm": {
     "name": "#%%\n"
    }
   },
   "outputs": [],
   "source": [
    "class SimpleLossCompute:\n",
    "    \"A simple loss compute and train function.\"\n",
    "\n",
    "    def __init__(self, model, criterion, opt=None, is_test=False):\n",
    "        self.model = model\n",
    "        self.criterion = criterion\n",
    "        self.opt = opt\n",
    "        self.is_test = is_test\n",
    "\n",
    "    def __call__(self, x, y, dist):\n",
    "        loss = torch.mean((1 - y) * torch.sqrt(dist) - (y) * torch.log(1 - torch.exp(-torch.sqrt(dist))))\n",
    "        if not self.is_test:\n",
    "            loss.backward()\n",
    "            if self.opt is not None:\n",
    "                self.opt.step()\n",
    "                self.opt.zero_grad()\n",
    "\n",
    "        return loss.item()"
   ]
  },
  {
   "cell_type": "code",
   "execution_count": null,
   "metadata": {
    "pycharm": {
     "name": "#%%\n"
    }
   },
   "outputs": [],
   "source": [
    "def run_train(dataloader, model, loss_compute, step_size=10):\n",
    "    \"Standard Training and Logging Function\"\n",
    "    start = time.time()\n",
    "    total_tokens = 0\n",
    "    total_loss = 0\n",
    "    tokens = 0\n",
    "    z = []\n",
    "    for i, batch in enumerate(dataloader):\n",
    "        b_input, b_labels = batch\n",
    "        z += b_input[0]\n",
    "\n",
    "        out = model.forward(b_input.cuda(), b_labels.cuda(), None, None)\n",
    "        dist = torch.sum((out[:, 0, :] - model.c) ** 2, dim=1)\n",
    "        loss = loss_compute(out, b_labels.cuda(), dist)\n",
    "        total_loss += loss\n",
    "\n",
    "        if i % step_size == 1:\n",
    "            elapsed = time.time() - start\n",
    "            print(\"Epoch Step: %d / %d Loss: %f\" %\n",
    "                  (i, len(dataloader), loss))\n",
    "            start = time.time()\n",
    "            tokens = 0\n",
    "    return total_loss, z"
   ]
  },
  {
   "cell_type": "code",
   "execution_count": null,
   "metadata": {
    "scrolled": true,
    "pycharm": {
     "name": "#%%\n"
    }
   },
   "outputs": [],
   "source": [
    "from sklearn.metrics import roc_auc_score\n",
    "from sklearn.metrics import roc_curve\n",
    "\n",
    "criterion = nn.CrossEntropyLoss(weight=torch.tensor([0.8, 1.0]).cuda())\n",
    "model = make_model(tokenizer.n_words, 2, N=2, h=2, d_model=16, d_ff=16, dropout=0.05, max_len=50)\n",
    "model.cuda()\n",
    "model_opt = torch.optim.Adam(model.parameters(), lr=0.0001, betas=(0.9, 0.999), weight_decay=0.001)\n",
    "max_auc = 0.0\n",
    "max_distances = 0\n",
    "for epoch in range(30):\n",
    "    #training\n",
    "    model.train()\n",
    "    print(\"Epoch\", epoch)\n",
    "    run_train(train_dataloader, model,\n",
    "              SimpleLossCompute(model, criterion, model_opt), step_size=100)\n",
    "    torch.save(model.state_dict(), '../output/models/model_' + str(epoch) + '.pt')\n",
    "\n",
    "    #test\n",
    "    model.eval()\n",
    "    preds, distances = run_test(test_dataloader, model,\n",
    "                                SimpleLossCompute(model, criterion, None, is_test=True), step_size=100)\n",
    "\n",
    "    preds = np.array(preds)\n",
    "    auc = roc_auc_score(test_ground_labels.astype(np.int32), distances)\n",
    "    print(\"AUC:\", auc)\n",
    "    if auc > max_auc:\n",
    "        max_auc = auc\n",
    "        fpr, tpr, thresholds = roc_curve(test_ground_labels.astype(np.int32), distances, pos_label=1)\n",
    "        np.save(str(aux_size) + '_without8020.npy', [fpr, tpr, thresholds])\n",
    "        print(roc_auc_score(test_ground_labels.astype(np.int32), distances))\n",
    "        max_distances = distances\n"
   ]
  },
  {
   "cell_type": "code",
   "execution_count": null,
   "metadata": {
    "pycharm": {
     "name": "#%%\n"
    }
   },
   "outputs": [],
   "source": [
    "plt.figure()\n",
    "lw = 2\n",
    "plt.plot(fpr, tpr, color='darkorange',\n",
    "         lw=lw, label='ROC curve (area = %0.2f)' % roc_auc_score(test_ground_labels.astype(np.int32), max_distances))\n",
    "plt.plot([0, 1], [0, 1], color='navy', lw=lw, linestyle='--')\n",
    "plt.xlim([0.0, 1.0])\n",
    "plt.ylim([0.0, 1.05])\n",
    "plt.xlabel('False Positive Rate')\n",
    "plt.ylabel('True Positive Rate')\n",
    "plt.title('Receiver operating characteristic example')\n",
    "plt.legend(loc=\"lower right\")\n",
    "plt.show()"
   ]
  }
 ],
 "metadata": {
  "kernelspec": {
   "display_name": "Python 3",
   "language": "python",
   "name": "python3"
  },
  "language_info": {
   "codemirror_mode": {
    "name": "ipython",
    "version": 3
   },
   "file_extension": ".py",
   "mimetype": "text/x-python",
   "name": "python",
   "nbconvert_exporter": "python",
   "pygments_lexer": "ipython3",
   "version": "3.6.7"
  }
 },
 "nbformat": 4,
 "nbformat_minor": 2
}